{
 "cells": [
  {
   "cell_type": "code",
   "execution_count": 14,
   "id": "16f8d999",
   "metadata": {},
   "outputs": [],
   "source": [
    "import numpy as np\n",
    "import time\n",
    "import matplotlib.pyplot as plt"
   ]
  },
  {
   "cell_type": "markdown",
   "id": "d88c256d",
   "metadata": {},
   "source": [
    "## Métodos iterativos para la solución de sistemas lineales\n",
    "\n",
    "Partimos de la ecuación $Ax = b$, pero vamos a hacer una pequeña modificación: \n",
    "\n",
    "$$Ax - b = 0$$\n",
    "\n",
    "Esta condición se cumple si, y solo si el vector $x$ que tiene esa ecuación es una solución exacta al sistema de ecuaciones lineales. Ahora, si yo reemplazo el $x$ por un $\\bar{x}$ que es una solución aproximada, obtendré que: \n",
    "\n",
    "$$A\\bar{x} - b = r$$\n",
    "\n",
    "Donde $r$ es un residuo, cuya norma puede definirse como el error de la aproximación que se está teniendo al sistema lineal de ecuaciones. \n",
    "\n",
    "Para el ejemplo de programación, trabajaremos con un [ejemplo de Julioprofe](https://www.youtube.com/watch?v=fMLyA0zscjY) de youtube que tiene una solución conocida y a la que es fácil llegar. "
   ]
  },
  {
   "cell_type": "code",
   "execution_count": 15,
   "id": "24c697ac",
   "metadata": {},
   "outputs": [
    {
     "data": {
      "text/plain": [
       "array([-1.,  3., -2.])"
      ]
     },
     "execution_count": 15,
     "metadata": {},
     "output_type": "execute_result"
    }
   ],
   "source": [
    "A = np.array([[2, 1, -3],\n",
    "              [5, -4, 1],\n",
    "              [1, -1, -4]], dtype='float64')\n",
    "\n",
    "b = np.array([7, -19, 4.])\n",
    "np.linalg.solve(A, b)"
   ]
  },
  {
   "cell_type": "markdown",
   "id": "48b2ffaa",
   "metadata": {},
   "source": [
    "## Método de Jacobi: \n",
    "\n",
    "En el método de Jacobi (explicarlo un poco)"
   ]
  },
  {
   "cell_type": "code",
   "execution_count": 16,
   "id": "ec0473f0",
   "metadata": {},
   "outputs": [
    {
     "name": "stdout",
     "output_type": "stream",
     "text": [
      "1 [ 4.5   6.25 -1.  ] 19.2321345669169\n",
      "2 [-1.125      3.09375   -2.0546875] 1.05471643478828\n",
      "3 [-1.12890625  2.82519531 -1.98852539] 0.4717040756586495\n",
      "4 [-0.89538574  3.13363647 -2.00725555] 0.36511239539973983\n",
      "5 [-1.07770157  2.90105915 -1.99469018] 0.27056537991083\n",
      "6 [-0.94256485  3.0731214  -2.00392156] 0.19996958338984755\n",
      "7 [-1.04244304  2.94596581 -1.99710221] 0.14777106924539965\n",
      "8 [-0.96863622  3.03992917 -2.00214135] 0.10919709836786883\n",
      "9 [-1.02317661  2.97049391 -1.99841763] 0.08069238718598079\n",
      "10 [-0.98287339  3.02180385 -2.00116931] 0.0596285181650516\n",
      "11 [-1.01265589  2.98388781 -1.99913592] 0.044063142716884454\n",
      "12 [-0.99064779  3.01190628 -2.00063852] 0.03256093905490832\n",
      "13 [-1.00691092  2.99120172 -1.99952816] 0.0240612604267441\n",
      "14 [-0.9948931   3.00650158 -2.00034867] 0.017780330362927525\n",
      "15 [-1.0037738   2.99519559 -1.99974235] 0.013138968707701166\n",
      "16 [-0.99721131  3.00355027 -2.0001904 ] 0.009709183979049416\n",
      "17 [-1.00206073  2.99737649 -1.9998593 ] 0.007174707211517898\n",
      "18 [-0.9984772   3.00193867 -2.00010397] 0.005301828009650678\n",
      "19 [-1.00112529  2.9985674  -1.99992317] 0.003917843532178238\n",
      "20 [-0.99916845  3.00105864 -2.00005677] 0.002895133134211412\n",
      "21 [-1.00061448  2.99921771 -1.99995805] 0.002139390150722346\n",
      "22 [-0.99954592  3.00057808 -2.000031  ] 0.0015809256448062815\n",
      "23 [-1.00033554  2.99957282 -1.99997709] 0.0011682422177945568\n",
      "24 [-0.99975205  3.00031567 -2.00001693] 0.0008632853062516965\n",
      "25 [-1.00018323  2.99976673 -1.99998749] 0.0006379340762012968\n",
      "26 [-0.9998646   3.00017238 -2.00000924] 0.0004714083312115586\n",
      "27 [-1.00010005  2.99987262 -1.99999317] 0.00034835231887716465\n",
      "28 [-0.99992606  3.00009413 -2.00000505] 0.0002574187387745968\n",
      "29 [-1.00005464  2.99993044 -1.99999627] 0.00019022237970191754\n",
      "30 [-0.99995963  3.0000514  -2.00000276] 0.0001405668985558524\n",
      "31 [-1.00002983  2.99996202 -1.99999796] 0.00010387344013101659\n",
      "32 [-0.99997795  3.00002807 -2.00000151] 7.675840952482285e-05\n",
      "33 [-1.00001629  2.99997926 -1.99999889] 5.672146243803067e-05\n",
      "34 [-0.99998796  3.00001533 -2.00000082] 4.191494223090018e-05\n",
      "35 [-1.0000089   2.99998867 -1.99999939] 3.09735029164805e-05\n",
      "36 [-0.99999343  3.00000837 -2.00000045] 2.2888207209538182e-05\n",
      "37 [-1.00000486  2.99999382 -1.99999967] 1.6913489916657964e-05\n",
      "38 [-0.99999641  3.00000457 -2.00000025] 1.2498407523242195e-05\n",
      "39 [-1.00000265  2.99999662 -1.99999982] 9.235834316829132e-06\n",
      "40 [-0.99999804  3.0000025  -2.00000013] 6.824920325568481e-06\n",
      "41 [-1.00000145  2.99999816 -1.9999999 ] 5.043349182314122e-06\n",
      "42 [-0.99999893  3.00000136 -2.00000007] 3.7268377890344825e-06\n",
      "43 [-1.00000079  2.99999899 -1.99999995] 2.7539873598968603e-06\n",
      "44 [-0.99999942  3.00000074 -2.00000004] 2.0350889459303126e-06\n",
      "45 [-1.00000043  2.99999945 -1.99999997] 1.503851136836318e-06\n",
      "46 [-0.99999968  3.00000041 -2.00000002] 1.1112871720583382e-06\n",
      "47 [-1.00000024  2.9999997  -1.99999998] 8.211977555377292e-07\n"
     ]
    }
   ],
   "source": [
    "# Proponer una solución inicial y almacenarla en un vector x0\n",
    "x0 = np.ones(len(A))\n",
    "x1 = np.empty_like(x0)\n",
    "\n",
    "# Parámetros de la solución\n",
    "err = 1e10\n",
    "tol = 1e-6\n",
    "count = 0\n",
    "\n",
    "while err >= tol:\n",
    "    \n",
    "    # Cuenta\n",
    "    count += 1\n",
    "    \n",
    "    # Calculo cada uno de los elementos de x1, usando los valores de x0\n",
    "    for i in range(0, len(A)):\n",
    "        \n",
    "        # Fórmula para calcular cada uno de los espacios del vector solución\n",
    "        x1[i] = (b[i] - np.dot(A[i, 0:i], x0[0:i]) -\n",
    "                 np.dot(A[i, i + 1 :], x0[i + 1:])) / A[i, i]\n",
    "        \n",
    "    # Cálculo del error\n",
    "    err = np.linalg.norm(np.dot(A, x1) - b)\n",
    "    \n",
    "    # Imprmiendo el vector solución y el error asociado\n",
    "    print(count, x1, err)\n",
    "    \n",
    "    # Reemplazando los valores\n",
    "    x0 = x1"
   ]
  },
  {
   "cell_type": "markdown",
   "id": "ee5e5a21",
   "metadata": {},
   "source": [
    "## Método de Gauss-Seidel\n",
    "\n",
    "Lo mismo que Jacobi pero uso los valores nuevos que voy encontrando. "
   ]
  },
  {
   "cell_type": "code",
   "execution_count": 17,
   "id": "ef32d8bb",
   "metadata": {},
   "outputs": [
    {
     "name": "stdout",
     "output_type": "stream",
     "text": [
      "1 [ 4.5     10.625   -2.53125] 20.52480397287633\n",
      "2 [-5.609375   -2.89453125 -1.67871094] 16.09973679084528\n",
      "3 [ 2.42919922  7.36682129 -2.23440552] 11.941372975314609\n",
      "4 [-3.53501892 -0.22737503 -1.82691097] 8.826091843210161\n",
      "5 [ 0.87332106  5.38492358 -2.12790063] 6.522216373499676\n",
      "6 [-2.38431273  1.23763392 -1.90548666] 4.819666171760351\n",
      "7 [ 0.02295304  4.30231963 -2.06984165] 3.561544935016064\n",
      "8 [-1.75592229  2.03763673 -1.94838975] 2.6318424126137896\n",
      "9 [-0.44140299  3.71114882 -2.03813795] 1.944828605635271\n",
      "10 [-1.41278134  2.47448884 -1.97181754] 1.4371522727583745\n",
      "11 [-0.69497073  3.3883322  -2.02082573] 1.0619993191663792\n",
      "12 [-1.2254047  2.7130377 -1.9846106] 0.7847759595750339\n",
      "13 [-0.83343475  3.21205392 -2.01137217] 0.579918739694045\n",
      "14 [-1.12308521  2.84330045 -1.99159641] 0.42853726664925385\n",
      "15 [-0.90904485  3.11579484 -2.00620992] 0.3166722789542903\n",
      "16 [-1.0672123   2.91443214 -1.99541111] 0.2340084283502496\n",
      "17 [-0.95033274  3.0632313  -2.00339101] 0.17292307593131181\n",
      "18 [-1.03670216  2.95327454 -1.99749418] 0.1277833896853926\n",
      "19 [-0.97287854  3.03452829 -2.00185171] 0.09442692706886231\n",
      "20 [-1.0200417   2.97448495 -1.99863166] 0.06977780584487948\n",
      "21 [-0.98518997  3.01885463 -2.00101115] 0.05156306934540991\n",
      "22 [-1.01094404  2.98606717 -1.9992528 ] 0.03810309149344985\n",
      "23 [-0.99191279  3.01029582 -2.00055215] 0.028156694312213938\n",
      "24 [-1.00597613  2.99239179 -1.99959198] 0.020806695822246875\n",
      "25 [-0.99558387  3.00562217 -2.00030151] 0.015375334413873886\n",
      "26 [-1.00326335  2.99584544 -1.9997772 ] 0.011361770766393385\n",
      "27 [-0.99758851  3.00307006 -2.00016464] 0.008395904210810982\n",
      "28 [-1.00178199  2.99773135 -1.99987834] 0.006204244828245666\n",
      "29 [-0.99868318  3.00167645 -2.00008991] 0.004584694265477645\n",
      "30 [-1.00097308  2.99876117 -1.99993356] 0.003387909744020689\n",
      "31 [-0.99928093  3.00091545 -2.00004909] 0.002503532791719116\n",
      "32 [-1.00053136  2.99932352 -1.99996372] 0.0018500128140305123\n",
      "33 [-0.99960734  3.00049989 -2.00002681] 0.0013670871112190723\n",
      "34 [-1.00029016  2.9996306  -1.99998019] 0.0010102239052009999\n",
      "35 [-0.99978558  3.00027297 -2.00001464] 0.0007465159537123617\n",
      "36 [-1.00015844  2.99979828 -1.99998918] 0.0005516460917985591\n",
      "37 [-0.99988292  3.00014906 -2.00000799] 0.00040764488566677384\n",
      "38 [-1.00008652  2.99988985 -1.99999409] 0.00030123362655937375\n",
      "39 [-0.99993606  3.0000814  -2.00000437] 0.0002225998680724608\n",
      "40 [-1.00004725  2.99993985 -1.99999677] 0.00016449259610280644\n",
      "41 [-0.99996509  3.00004445 -2.00000238] 0.00012155359482717644\n",
      "42 [-1.0000258   2.99996716 -1.99999824] 8.982335233158152e-05\n",
      "43 [-0.99998094  3.00002427 -2.0000013 ] 6.637594416921003e-05\n",
      "44 [-1.00001409  2.99998206 -1.99999904] 4.904922662111134e-05\n",
      "45 [-0.99998959  3.00001325 -2.00000071] 3.624546004455144e-05\n",
      "46 [-1.00000769  2.99999021 -1.99999947] 2.678397732731926e-05\n",
      "47 [-0.99999432  3.00000724 -2.00000039] 1.979231165869449e-05\n",
      "48 [-1.0000042   2.99999465 -1.99999971] 1.4625744191094893e-05\n",
      "49 [-0.9999969   3.00000395 -2.00000021] 1.0807852910111776e-05\n",
      "50 [-1.00000229  2.99999708 -1.99999984] 7.986580580338508e-06\n",
      "51 [-0.9999983   3.00000216 -2.00000012] 5.9017706729696735e-06\n",
      "52 [-1.00000125  2.99999841 -1.99999991] 4.361177693872199e-06\n",
      "53 [-0.99999907  3.00000118 -2.00000006] 3.222739739120531e-06\n",
      "54 [-1.00000068  2.99999913 -1.99999995] 2.38147861996378e-06\n",
      "55 [-0.99999949  3.00000064 -2.00000003] 1.7598195555069907e-06\n",
      "56 [-1.00000037  2.99999952 -1.99999997] 1.3004378208831484e-06\n",
      "57 [-0.99999972  3.00000035 -2.00000002] 9.609726866159933e-07\n"
     ]
    }
   ],
   "source": [
    "# Proponer una solución inicial y almacenarla en un vector x0\n",
    "x0 = np.ones(len(A))\n",
    "x1 = np.empty_like(x0)\n",
    "\n",
    "# Parámetros de la solución\n",
    "err = 1e10\n",
    "tol = 1e-6\n",
    "count = 0\n",
    "\n",
    "while err >= tol:\n",
    "    \n",
    "    # Cuenta\n",
    "    count += 1\n",
    "    \n",
    "    # Calculo cada uno de los elementos de x1, usando los valores de x0\n",
    "    for i in range(0, len(A)):\n",
    "        \n",
    "        # Fórmula para calcular cada uno de los espacios del vector solución\n",
    "        x1[i] = (b[i] - np.dot(A[i, 0:i], x1[0:i]) -\n",
    "                 np.dot(A[i, i + 1 :], x0[i + 1:])) / A[i, i]\n",
    "        \n",
    "    # Cálculo del error\n",
    "    err = np.linalg.norm(np.dot(A, x1) - b)\n",
    "    \n",
    "    # Imprmiendo el vector solución y el error asociado\n",
    "    print(count, x1, err)\n",
    "    \n",
    "    # Reemplazando los valores\n",
    "    x0 = x1"
   ]
  },
  {
   "cell_type": "markdown",
   "id": "e5953a5a",
   "metadata": {},
   "source": [
    "## Método SOR:\n",
    "\n",
    "Combino los vectores x0 y x1 en un promedio ponderado para poder hallar la solución más rápido o más lento (dependiendo del alpha que se seleccione)"
   ]
  },
  {
   "cell_type": "code",
   "execution_count": 18,
   "id": "1f077294",
   "metadata": {},
   "outputs": [
    {
     "name": "stdout",
     "output_type": "stream",
     "text": [
      "1 [ 3.66     8.315   -1.68375] 14.019691620181952\n",
      "2 [-1.540775    2.26171875 -1.83542344] 2.395026779674176\n",
      "3 [-0.66162184  3.43928724 -1.99757927] 1.1160534311891053\n",
      "4 [-1.08295876  2.90067697 -1.98927341] 0.2986791336752052\n",
      "5 [-0.96993905  3.04066435 -2.00105832] 0.10501603444725055\n",
      "6 [-1.00944431  2.98873469 -1.99916254] 0.032728806390244364\n",
      "7 [-0.99703112  3.00399984 -2.00016601] 0.010525307940071815\n",
      "8 [-1.00099666  2.99879193 -1.99992513] 0.0034279645629532005\n",
      "9 [-0.99969478  3.00040481 -2.00001961] 0.0010801920283871262\n",
      "10 [-1.00010293  2.99987319 -1.99999276] 0.00035441949176558764\n",
      "11 [-0.99996827  3.00004149 -2.00000213] 0.00011175503263215924\n",
      "12 [-1.00001058  2.9999868  -1.99999927] 3.654583669328371e-05\n",
      "13 [-0.9999967   3.00000427 -2.00000023] 1.1584652273707092e-05\n",
      "14 [-1.00000109  2.99999863 -1.99999993] 3.769268654136156e-06\n",
      "15 [-0.99999966  3.00000044 -2.00000002] 1.2007731142430295e-06\n",
      "16 [-1.00000011  2.99999986 -1.99999999] 3.8906569701657044e-07\n"
     ]
    }
   ],
   "source": [
    "# Proponer una solución inicial y almacenarla en un vector x0\n",
    "x0 = np.ones(len(A))\n",
    "x1 = np.empty_like(x0)\n",
    "\n",
    "# Parámetros de la solución\n",
    "err = 1e10\n",
    "tol = 1e-6\n",
    "alpha = 0.24\n",
    "count = 0\n",
    "\n",
    "while err >= tol:\n",
    "    \n",
    "    # Cuenta\n",
    "    count += 1\n",
    "    \n",
    "    # Calculo cada uno de los elementos de x1, usando los valores de x0\n",
    "    for i in range(0, len(A)):\n",
    "        \n",
    "        # Fórmula para calcular cada uno de los espacios del vector solución\n",
    "        x1[i] = (b[i] - np.dot(A[i, 0:i], x1[0:i]) - np.dot(A[i, i + 1 :], x0[i + 1:])) / A[i, i]\n",
    "        \n",
    "    # Cálculo de solución parcial\n",
    "    sol = alpha * x0  + (1 - alpha) * x1\n",
    "        \n",
    "    # Cálculo del error\n",
    "    err = np.linalg.norm(np.dot(A, sol) - b)\n",
    "    \n",
    "    # Imprmiendo el vector solución y el error asociado\n",
    "    print(count, sol, err)\n",
    "    \n",
    "    # Reemplazando los valores\n",
    "    x0 = sol"
   ]
  },
  {
   "cell_type": "code",
   "execution_count": 19,
   "id": "ef598ae1",
   "metadata": {},
   "outputs": [],
   "source": [
    "def SOR(A, b, alpha):\n",
    "    \n",
    "    # Proponer una solución inicial y almacenarla en un vector x0\n",
    "    x0 = np.ones(len(A))\n",
    "    x1 = np.empty_like(x0)\n",
    "    # Parámetros de la solución\n",
    "    err = 1e10\n",
    "    tol = 1e-6\n",
    "    # alpha = 0.24\n",
    "    count = 0\n",
    "\n",
    "    while err >= tol:\n",
    "\n",
    "        # Cuenta\n",
    "        count += 1\n",
    "\n",
    "        # Calculo cada uno de los elementos de x1, usando los valores de x0\n",
    "        for i in range(0, len(A)):\n",
    "\n",
    "            # Fórmula para calcular cada uno de los espacios del vector solución\n",
    "            x1[i] = (b[i] - np.dot(A[i, 0:i], x1[0:i]) - np.dot(A[i, i + 1 :], x0[i + 1:])) / A[i, i]\n",
    "\n",
    "        # Cálculo de solución parcial\n",
    "        sol = alpha * x0  + (1 - alpha) * x1\n",
    "\n",
    "        # Cálculo del error\n",
    "        err = np.linalg.norm(np.dot(A, sol) - b)\n",
    "\n",
    "        # Imprmiendo el vector solución y el error asociado\n",
    "        # print(count, sol, err)\n",
    "\n",
    "        # Reemplazando los valores\n",
    "        x0 = sol\n",
    "        \n",
    "    return [sol, count]"
   ]
  },
  {
   "cell_type": "code",
   "execution_count": 20,
   "id": "9c304f39",
   "metadata": {},
   "outputs": [],
   "source": [
    "# Verificando el comportamiento del método SOR en el problema\n",
    "ALPHA = np.linspace(0, 0.99, 1000)\n",
    "cuentas = np.empty_like(ALPHA)\n",
    "\n",
    "for i in range(0, len(ALPHA)):\n",
    "    \n",
    "    cuentas[i] = SOR(A, b, ALPHA[i])[1]"
   ]
  },
  {
   "cell_type": "code",
   "execution_count": 23,
   "id": "0a89c943",
   "metadata": {},
   "outputs": [
    {
     "data": {
      "image/png": "[encoded data removed]",
      "text/plain": [
       "<Figure size 1200x800 with 1 Axes>"
      ]
     },
     "metadata": {},
     "output_type": "display_data"
    }
   ],
   "source": [
    "# Graficando para ver cosas interesantes\n",
    "plt.figure(figsize=(12, 8))    \n",
    "plt.semilogy(ALPHA, cuentas)\n",
    "plt.ylabel('Iteraciones necesarias')\n",
    "plt.xlabel(r'Valor de $\\alpha$')\n",
    "plt.ylim([5, 5e2])\n",
    "plt.xlim([0, 1])\n",
    "plt.grid()\n",
    "plt.title(r'Iteraciones vs. $\\alpha$')\n",
    "plt.grid(which='minor')\n",
    "plt.show()"
   ]
  }
 ],
 "metadata": {
  "kernelspec": {
   "display_name": "Python 3",
   "language": "python",
   "name": "python3"
  },
  "language_info": {
   "codemirror_mode": {
    "name": "ipython",
    "version": 3
   },
   "file_extension": ".py",
   "mimetype": "text/x-python",
   "name": "python",
   "nbconvert_exporter": "python",
   "pygments_lexer": "ipython3",
   "version": "3.11.6"
  }
 },
 "nbformat": 4,
 "nbformat_minor": 5
}
