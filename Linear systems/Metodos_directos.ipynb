{
 "cells": [
  {
   "cell_type": "code",
   "execution_count": 1,
   "id": "164bc052",
   "metadata": {},
   "outputs": [],
   "source": [
    "import numpy as np\n",
    "import time"
   ]
  },
  {
   "cell_type": "markdown",
   "id": "f9926b49",
   "metadata": {},
   "source": [
    "# SOLUCIÓN DE SISTEMAS LINEALES \n",
    "\n",
    "Hay dos vías (principalmente), para solucionar un sistema lineal de ecuaciones: \n",
    "\n",
    "1. Métodos directos\n",
    "2. Métodos iterativos\n",
    "\n",
    "El presente notebook muestra la implementación del algoritmo de Gauss para la solución de sistemas lineales y luego discute el algoritmo para la solución por medio de descomposición LU. \n",
    "\n",
    "Se utilizará como ejemplo el sistema que se muestra a continuación con su solución calculada por el módulo `numpy.linalg.solve`, para verificar que las soluciones son correctas. \n",
    "\n",
    "$$\\begin{cases} 2x + 6y + z = 7\\\\ \n",
    "                x + 2y - z = -1\\\\ \n",
    "                5x + 7y - 4z = 9\\end{cases}$$"
   ]
  },
  {
   "cell_type": "code",
   "execution_count": 2,
   "id": "1117aede",
   "metadata": {},
   "outputs": [
    {
     "data": {
      "text/plain": [
       "array([10., -3.,  5.])"
      ]
     },
     "execution_count": 2,
     "metadata": {},
     "output_type": "execute_result"
    }
   ],
   "source": [
    "# Definiendo la matriz\n",
    "A = np.array([[2., 6, 1], \n",
    "              [1, 2, -1], \n",
    "              [5, 7, -4]])\n",
    "\n",
    "# Definiendo el vector solución\n",
    "b = np.array([7., -1, 9])\n",
    "\n",
    "# Solucionando el sistema\n",
    "x = np.linalg.solve(A, b)\n",
    "\n",
    "# Imprimiendo la solución\n",
    "x"
   ]
  },
  {
   "cell_type": "code",
   "execution_count": 3,
   "id": "d44fda3f",
   "metadata": {},
   "outputs": [
    {
     "name": "stdout",
     "output_type": "stream",
     "text": [
      "[[ 2.   6.   1. ]\n",
      " [ 0.  -1.  -1.5]\n",
      " [ 0.   0.   5.5]] [ 7.  -4.5 27.5] [10. -3.  5.]\n"
     ]
    }
   ],
   "source": [
    "# Defino una matriz B igual que A, pero para poder modificarla\n",
    "B = np.array([[2., 6, 1], \n",
    "              [1, 2, -1], \n",
    "              [5, 7, -4]])\n",
    "\n",
    "c = np.array([7., -1, 9])\n",
    "\n",
    "# Hago Gauss hacia abajo\n",
    "for k in range(0, len(B) - 1):\n",
    "    \n",
    "    for i in range(k + 1, len(B)):\n",
    "\n",
    "        factor = -B[i, k] / B[k, k]\n",
    "        c[i] += (c[k] * factor)\n",
    "        B[i, :] = factor * B[k, :] + B[i, :]\n",
    "\n",
    "# Genero el vector de soluciones\n",
    "sol = np.zeros(len(B))\n",
    "\n",
    "# Por la construcción de la matriz, el valor de la última variable es\n",
    "# conocido\n",
    "sol[-1] = c[-1] / B[-1, -1]\n",
    "\n",
    "# Me devuelvo reemplazando\n",
    "for i in range(len(B) - 2, -1, -1):\n",
    "    \n",
    "    sol[i] = (c[i] - np.dot(sol[i + 1:], B[i, i + 1:])) / B[i, i]\n",
    "            \n",
    "print(B, c, sol)"
   ]
  },
  {
   "cell_type": "code",
   "execution_count": 4,
   "id": "607429be",
   "metadata": {},
   "outputs": [],
   "source": [
    "# Vuelvo el método de Gauss una función para poder resolver cualquier sistema\n",
    "# OJO: Solamente estoy agarrando lo de arriba y volviéndolo función\n",
    "def Gauss(A, b):    \n",
    "    # Eliminación hacia abajo\n",
    "    for k in range(0, len(A) - 1):\n",
    "        for i in range(k + 1, len(A)):\n",
    "            factor = -A[i, k] / A[k, k]\n",
    "            b[i] += (b[k] * factor)\n",
    "            A[i, :] = factor * A[k, :] + A[i, :]\n",
    "\n",
    "    # Genero el vector de soluciones\n",
    "    sol = np.zeros(len(A))\n",
    "    \n",
    "    # Último valor\n",
    "    sol[-1] = b[-1] / A[-1, -1]\n",
    "\n",
    "    # Reemplazo hacia atrás\n",
    "    for i in range(len(A) - 2, -1, -1):\n",
    "        sol[i] = (b[i] - np.dot(sol[i + 1:], A[i, i + 1:])) / A[i, i]\n",
    "    \n",
    "    # La función devuelve la solución del sistema lineal\n",
    "    return sol"
   ]
  },
  {
   "cell_type": "code",
   "execution_count": 5,
   "id": "25d5e6c0",
   "metadata": {},
   "outputs": [
    {
     "name": "stdout",
     "output_type": "stream",
     "text": [
      "[2.         0.5        3.         0.33333333]\n",
      "[2.         0.5        3.         0.33333333]\n"
     ]
    }
   ],
   "source": [
    "# Probando la solución con un sistema de 4x4\n",
    "# Matriz del sistema\n",
    "C = np.array([[3, 6, -2, 9],\n",
    "              [-5, 4, 5, -6],\n",
    "              [-3, 8, 2, -3],\n",
    "              [-4, 10, 3, 9]], dtype='float64')\n",
    "\n",
    "# Vector de solución\n",
    "s = [6, 5, 3, 9]\n",
    "\n",
    "# Comparación de las soluciones entre el método de numpy y la función de Gauss\n",
    "# que acabamos de crear.\n",
    "print(np.linalg.solve(C, s))\n",
    "print(Gauss(C, s))"
   ]
  },
  {
   "cell_type": "markdown",
   "id": "f6a4ef44",
   "metadata": {},
   "source": [
    "Como se puede ver, el método de solución de Gauss tiene los mismos resultados que el método que utiliza la librería numpy de Python. No obstante, es bueno que piense qué tipo de limitaciones tiene el uso del método de Gauss en la solución de sistemas lineales. \n",
    "**Pista:** Piense en los elementos de la diagonal de la matriz. "
   ]
  },
  {
   "cell_type": "markdown",
   "id": "104fc0d7",
   "metadata": {},
   "source": [
    "## Descomposición LU de matrices\n",
    "\n",
    "Una forma interesante de resolver sistemas lineales de forma directa es desocmponer la matriz $A$ en dos matrices triangulares, una inferior $L$ y una superior $U$. La idea es que la matriz $L$ sea una reducción de la matriz $A$ con elementos en desde la diagonal principal hacia abajo. Por otraparte, la matriz $U$ almacena los coefcientes que se debieron utilizar para realizar la transformación de la matriz $A$ a la matriz $L$. \n",
    "\n",
    "Para ver un poco más de la teoría tiene dos opciones: \n",
    "- Revisar el código que se presenta a continuación\n",
    "- Revisar un poco de la teoría en un buen libro de métodos numéricos (como por ejemplo el libro de Chapra)\n",
    "\n",
    "$$Ax = b$$\n",
    "$$LUx = b$$\n",
    "$$Ly = b \\rightarrow Ux = y$$\n",
    "\n",
    "La ventaja de este método es que después de descomponer la matriz, solamente basta con resolver dos sistemas en los que solamente se debe reemplazar valores hacia atrás para el caso de $Ly = b$, y luego reemplazar hacia adelante con $Ux = y$."
   ]
  },
  {
   "cell_type": "code",
   "execution_count": 6,
   "id": "ee99af70",
   "metadata": {},
   "outputs": [
    {
     "data": {
      "text/plain": [
       "array([[ 2.,  6.,  1.],\n",
       "       [ 1.,  2., -1.],\n",
       "       [ 5.,  7., -4.]])"
      ]
     },
     "execution_count": 6,
     "metadata": {},
     "output_type": "execute_result"
    }
   ],
   "source": [
    "# Acá se puede verificar que las matrices L y U multiplicadas dan como resultado \n",
    "# la matriz A que se tenía en el ejemplo anterior. \n",
    "# Resultado de descomponer la matriz A en las matrices L y U\n",
    "L = np.array([[1, 0, 0],\n",
    "              [0.5, 1, 0],\n",
    "              [5 / 2, 8, 1]], dtype = 'float64')\n",
    "U = np.array([[2, 6, 1],\n",
    "              [0, -1, -3 / 2],\n",
    "              [0, 0, 11 / 2]], dtype = 'float64')\n",
    "\n",
    "np.matmul(L, U)"
   ]
  },
  {
   "cell_type": "code",
   "execution_count": 7,
   "id": "1d9107eb",
   "metadata": {},
   "outputs": [
    {
     "data": {
      "text/plain": [
       "array([10., -3.,  5.])"
      ]
     },
     "execution_count": 7,
     "metadata": {},
     "output_type": "execute_result"
    }
   ],
   "source": [
    "# Algoritmo para obtener la descomposición LU\n",
    "B = np.array([[2., 6, 1], \n",
    "              [1, 2, -1], \n",
    "              [5, 7, -4]])\n",
    "c = np.array([7., -1, 9])\n",
    "\n",
    "# Definir la matriz L (genero una matriz identidad de n x n)\n",
    "L = np.identity(len(B))\n",
    "\n",
    "# Pasos para descomponer A\n",
    "# Hago Gauss hacia abajo (reducción de la matriz)\n",
    "for k in range(0, len(B) - 1):\n",
    "    for i in range(k + 1, len(B)):\n",
    "        \n",
    "        # Lo mismo que en el procedimiento de Gauss\n",
    "        factor = -B[i, k] / B[k, k]\n",
    "        B[i, :] = factor * B[k, :] + B[i, :]\n",
    "        \n",
    "        # Poner en la matriz L el factor\n",
    "        L[i, k] = -factor\n",
    "\n",
    "# Hacer sustitución para hallar el valor de y (solución temporal)\n",
    "# Recuerde que Ly = b. Además, la sustitución es hacia adelante\n",
    "y = np.zeros(len(B))\n",
    "y[0] = c[0]\n",
    "\n",
    "for k in range(1, len(B)): y[k] = c[k] - np.dot(L[k, 0:k], y[0:k])\n",
    "\n",
    "# Hacer sustitución hacia atrás para hallar el valor de x, que es la \n",
    "# incógnita del problema propuesto\n",
    "x = np.zeros(len(B))\n",
    "x[-1] = y[-1] / B[-1, -1]\n",
    "\n",
    "for i in range(len(B) - 2, -1, -1):\n",
    "        x[i] = (y[i] - np.dot(x[i + 1:], B[i, i + 1:])) / B[i, i]\n",
    "\n",
    "# Imprimo x\n",
    "x"
   ]
  },
  {
   "cell_type": "code",
   "execution_count": 8,
   "id": "1aeb444d",
   "metadata": {},
   "outputs": [],
   "source": [
    "# Volviendo función el método de descomposición LU para la solución de un siste-\n",
    "# ma lineal. \n",
    "def desc_LU(A, b):\n",
    "    \n",
    "    # Matriz L (nxn)\n",
    "    L = np.identity(len(A))\n",
    "\n",
    "    # Eliminación hacia adelante con guardado de factor en L\n",
    "    for k in range(0, len(A) - 1):\n",
    "        for i in range(k + 1, len(A)):\n",
    "\n",
    "            factor = -A[i, k] / A[k, k]\n",
    "            A[i, :] = factor * A[k, :] + A[i, :]\n",
    "\n",
    "            # Poner en la matriz L el factor\n",
    "            L[i, k] = -factor\n",
    "\n",
    "    # Solución temporal Ly = b\n",
    "    y = np.zeros(len(A))\n",
    "    y[0] = b[0]\n",
    "\n",
    "    for k in range(1, len(A)): y[k] = b[k] - np.dot(L[k, 0:k], y[0:k])\n",
    "\n",
    "    # Solución definitiva Ux = y\n",
    "    x = np.zeros(len(A))\n",
    "    x[-1] = y[-1] / A[-1, -1]\n",
    "\n",
    "    for i in range(len(A) - 2, -1, -1):\n",
    "            x[i] = (y[i] - np.dot(x[i + 1:], A[i, i + 1:])) / A[i, i]\n",
    "\n",
    "    # Devolviendo la solución del sistema        \n",
    "    return x"
   ]
  },
  {
   "cell_type": "code",
   "execution_count": 9,
   "id": "337be8f8",
   "metadata": {},
   "outputs": [
    {
     "name": "stdout",
     "output_type": "stream",
     "text": [
      "[2.         0.5        3.         0.33333333]\n",
      "El algoritmo de Gauss se demora 0.0018 segundos.\n",
      "[2.         0.5        3.         0.33333333]\n",
      "El algoritmo LU se demora 0.0013 segundos.\n"
     ]
    }
   ],
   "source": [
    "# Sistema\n",
    "C = np.array([[3, 6, -2, 9],\n",
    "              [-5, 4, 5, -6],\n",
    "              [-3, 8, 2, -3],\n",
    "              [-4, 10, 3, 9]], dtype='float64')\n",
    "\n",
    "# Vector de solución\n",
    "s = np.array([6, 5, 3, 9], dtype='float64')\n",
    "\n",
    "# Solucionando los sistemas con los dos métodos programados, con tiempos de la \n",
    "# solución\n",
    "t = time.time()\n",
    "print(Gauss(C, s))\n",
    "elapsed = time.time() - t\n",
    "print('El algoritmo de Gauss se demora %.4f segundos.'%(elapsed))\n",
    "t = time.time()\n",
    "print(desc_LU(C, s))\n",
    "elapsed = time.time() - t\n",
    "print('El algoritmo LU se demora %.4f segundos.'%(elapsed))"
   ]
  }
 ],
 "metadata": {
  "kernelspec": {
   "display_name": "Python 3 (ipykernel)",
   "language": "python",
   "name": "python3"
  },
  "language_info": {
   "codemirror_mode": {
    "name": "ipython",
    "version": 3
   },
   "file_extension": ".py",
   "mimetype": "text/x-python",
   "name": "python",
   "nbconvert_exporter": "python",
   "pygments_lexer": "ipython3",
   "version": "3.11.6"
  }
 },
 "nbformat": 4,
 "nbformat_minor": 5
}
